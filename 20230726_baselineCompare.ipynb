{
 "cells": [
  {
   "cell_type": "code",
   "execution_count": 1,
   "metadata": {},
   "outputs": [],
   "source": [
    "from statsmodels.formula.api import ols\n",
    "import statsmodels.formula.api as smf\n",
    "import statsmodels.api as sm\n",
    "from automatedFunction import dataSequence, nameDict\n",
    "import pandas as pd"
   ]
  },
  {
   "cell_type": "code",
   "execution_count": 3,
   "metadata": {},
   "outputs": [
    {
     "name": "stdout",
     "output_type": "stream",
     "text": [
      "\\begin{table}[!htbp] \\centering\n",
      "\\begin{tabular}{@{\\extracolsep{5pt}}lcccccc}\n",
      "\\\\[-1.8ex]\\hline\n",
      "\\hline \\\\[-1.8ex]\n",
      "& \\multicolumn{6}{c}{\\textit{Dependent variable:}} \\\n",
      "\\cr \\cline{6-7}\n",
      "\\\\[-1.8ex] & (1) & (2) & (3) & (4) & (5) & (6) \\\\\n",
      "\\hline \\\\[-1.8ex]\n",
      " Intercept & 11.503$^{***}$ & 12.183$^{***}$ & 11.497$^{***}$ & 12.117$^{***}$ & 11.490$^{***}$ & 12.282$^{***}$ \\\\\n",
      "  & (0.493) & (0.430) & (0.502) & (0.453) & (0.418) & (0.407) \\\\\n",
      " Is efficient & 0.218$^{***}$ & 0.162$^{**}$ & & & & \\\\\n",
      "  & (0.053) & (0.077) & & & & \\\\\n",
      " A & & & 0.179$^{**}$ & 0.179$^{}$ & 0.222$^{***}$ & 0.139$^{}$ \\\\\n",
      "  & & & (0.081) & (0.118) & (0.067) & (0.108) \\\\\n",
      " B & & & 0.195$^{**}$ & 0.119$^{}$ & 0.189$^{***}$ & 0.076$^{}$ \\\\\n",
      "  & & & (0.086) & (0.118) & (0.073) & (0.112) \\\\\n",
      " C & & & 0.235$^{***}$ & 0.289$^{**}$ & 0.184$^{***}$ & 0.214$^{*}$ \\\\\n",
      "  & & & (0.084) & (0.121) & (0.071) & (0.113) \\\\\n",
      " E & & & 0.208$^{**}$ & 0.197$^{}$ & 0.198$^{**}$ & 0.200$^{}$ \\\\\n",
      "  & & & (0.104) & (0.166) & (0.087) & (0.151) \\\\\n",
      " F & & & -0.119$^{}$ & 0.012$^{}$ & -0.102$^{}$ & -0.035$^{}$ \\\\\n",
      "  & & & (0.124) & (0.154) & (0.106) & (0.140) \\\\\n",
      " G & & & -0.158$^{}$ & -0.062$^{}$ & -0.240$^{**}$ & -0.079$^{}$ \\\\\n",
      "  & & & (0.116) & (0.165) & (0.097) & (0.149) \\\\\n",
      " NA & & & & & -0.083$^{}$ & -0.210$^{*}$ \\\\\n",
      "  & & & & & (0.073) & (0.120) \\\\\n",
      " \\textit{Control variables} &  &  &  &  &  &  \\\\\n",
      " Property type dummy & Yes & Yes & Yes & Yes & Yes & Yes \\\\\n",
      " Renovation dummy & Yes & Yes & Yes & Yes & Yes & Yes \\\\\n",
      " Mixed use dummy & Yes & Yes & Yes & Yes & Yes & Yes \\\\\n",
      " Landownership dummy & Yes & Yes & Yes & Yes & Yes & Yes \\\\\n",
      " Transaction year dummy & Yes & Yes & Yes & Yes & Yes & Yes \\\\\n",
      " ML Bucket & Yes & Yes & Yes & Yes & Yes & Yes \\\\\n",
      " Building age dummy & Yes & Yes & Yes & Yes & Yes & Yes \\\\\n",
      " Log Summed area & Yes & Yes & Yes & Yes & Yes & Yes \\\\\n",
      "\\hline \\\\[-1.8ex]\n",
      " Observations & 1,342 & 1,342 & 1,342 & 1,342 & 1,836 & 1,836 \\\\\n",
      " $R^2$ &  & 0.716 &  & 0.718 &  & 0.682 \\\\\n",
      " Adjusted $R^2$ &  & 0.588 &  & 0.590 &  & 0.580 \\\\\n",
      " Residual Std. Error & 0.599(df = 925) & 0.708(df = 925) & 0.604(df = 920) & 0.707(df = 920) & 0.595(df = 1392) & 0.672(df = 1392)  \\\\\n",
      " F Statistic & $^{}$ (df = 416.0; 925.0) & 6268.274$^{***}$ (df = 416.0; 925.0) & $^{}$ (df = 421.0; 920.0) & 4160.480$^{***}$ (df = 421.0; 920.0) & $^{}$ (df = 443.0; 1392.0) & 348.159$^{***}$ (df = 443.0; 1392.0) \\\\\n",
      "\\hline\n",
      "\\hline \\\\[-1.8ex]\n",
      "\\textit{Note:} & \\multicolumn{6}{r}{$^{*}$p$<$0.1; $^{**}$p$<$0.05; $^{***}$p$<$0.01} \\\\\n",
      "\\end{tabular}\n",
      "\\end{table}\n"
     ]
    },
    {
     "name": "stderr",
     "output_type": "stream",
     "text": [
      "c:\\ProgramData\\Anaconda3\\lib\\site-packages\\statsmodels\\base\\model.py:1871: ValueWarning: covariance of constraints does not have full rank. The number of constraints is 416, but rank is 325\n",
      "  warnings.warn('covariance of constraints does not have full '\n",
      "c:\\ProgramData\\Anaconda3\\lib\\site-packages\\statsmodels\\base\\model.py:1871: ValueWarning: covariance of constraints does not have full rank. The number of constraints is 421, but rank is 330\n",
      "  warnings.warn('covariance of constraints does not have full '\n",
      "c:\\ProgramData\\Anaconda3\\lib\\site-packages\\statsmodels\\base\\model.py:1871: ValueWarning: covariance of constraints does not have full rank. The number of constraints is 443, but rank is 384\n",
      "  warnings.warn('covariance of constraints does not have full '\n"
     ]
    },
    {
     "data": {
      "text/html": [
       "<table style=\"text-align:center\"><tr><td colspan=\"7\" style=\"border-bottom: 1px solid black\"></td></tr><tr><td style=\"text-align:left\"></td><td colspan=\"6\"><em>Dependent variable:price_per_meter2_log</em></td></tr><tr><td style=\"text-align:left\"></td><tr><td style=\"text-align:left\"></td><td>(1)</td><td>(2)</td><td>(3)</td><td>(4)</td><td>(5)</td><td>(6)</td></tr><tr><td colspan=\"7\" style=\"border-bottom: 1px solid black\"></td></tr><tr><td style=\"text-align:left\">Intercept</td><td>11.503<sup>***</sup></td><td>12.183<sup>***</sup></td><td>11.497<sup>***</sup></td><td>12.117<sup>***</sup></td><td>11.490<sup>***</sup></td><td>12.282<sup>***</sup></td></tr><tr><td style=\"text-align:left\"></td><td>(0.493)</td><td>(0.430)</td><td>(0.502)</td><td>(0.453)</td><td>(0.418)</td><td>(0.407)</td></tr><tr><td style=\"text-align:left\">Is efficient</td><td>0.218<sup>***</sup></td><td>0.162<sup>**</sup></td><td></td><td></td><td></td><td></td></tr><tr><td style=\"text-align:left\"></td><td>(0.053)</td><td>(0.077)</td><td></td><td></td><td></td><td></td></tr><tr><td style=\"text-align:left\">A</td><td></td><td></td><td>0.179<sup>**</sup></td><td>0.179<sup></sup></td><td>0.222<sup>***</sup></td><td>0.139<sup></sup></td></tr><tr><td style=\"text-align:left\"></td><td></td><td></td><td>(0.081)</td><td>(0.118)</td><td>(0.067)</td><td>(0.108)</td></tr><tr><td style=\"text-align:left\">B</td><td></td><td></td><td>0.195<sup>**</sup></td><td>0.119<sup></sup></td><td>0.189<sup>***</sup></td><td>0.076<sup></sup></td></tr><tr><td style=\"text-align:left\"></td><td></td><td></td><td>(0.086)</td><td>(0.118)</td><td>(0.073)</td><td>(0.112)</td></tr><tr><td style=\"text-align:left\">C</td><td></td><td></td><td>0.235<sup>***</sup></td><td>0.289<sup>**</sup></td><td>0.184<sup>***</sup></td><td>0.214<sup>*</sup></td></tr><tr><td style=\"text-align:left\"></td><td></td><td></td><td>(0.084)</td><td>(0.121)</td><td>(0.071)</td><td>(0.113)</td></tr><tr><td style=\"text-align:left\">E</td><td></td><td></td><td>0.208<sup>**</sup></td><td>0.197<sup></sup></td><td>0.198<sup>**</sup></td><td>0.200<sup></sup></td></tr><tr><td style=\"text-align:left\"></td><td></td><td></td><td>(0.104)</td><td>(0.166)</td><td>(0.087)</td><td>(0.151)</td></tr><tr><td style=\"text-align:left\">F</td><td></td><td></td><td>-0.119<sup></sup></td><td>0.012<sup></sup></td><td>-0.102<sup></sup></td><td>-0.035<sup></sup></td></tr><tr><td style=\"text-align:left\"></td><td></td><td></td><td>(0.124)</td><td>(0.154)</td><td>(0.106)</td><td>(0.140)</td></tr><tr><td style=\"text-align:left\">G</td><td></td><td></td><td>-0.158<sup></sup></td><td>-0.062<sup></sup></td><td>-0.240<sup>**</sup></td><td>-0.079<sup></sup></td></tr><tr><td style=\"text-align:left\"></td><td></td><td></td><td>(0.116)</td><td>(0.165)</td><td>(0.097)</td><td>(0.149)</td></tr><tr><td style=\"text-align:left\">NA</td><td></td><td></td><td></td><td></td><td>-0.083<sup></sup></td><td>-0.210<sup>*</sup></td></tr><tr><td style=\"text-align:left\"></td><td></td><td></td><td></td><td></td><td>(0.073)</td><td>(0.120)</td></tr><tr><td style=\"text-align: left\">\\textit{Control variables}</td><td></td><td></td><td></td><td></td><td></td><td></td></tr><tr><td style=\"text-align: left\">Property type dummy</td><td>Yes</td><td>Yes</td><td>Yes</td><td>Yes</td><td>Yes</td><td>Yes</td></tr><tr><td style=\"text-align: left\">Renovation dummy</td><td>Yes</td><td>Yes</td><td>Yes</td><td>Yes</td><td>Yes</td><td>Yes</td></tr><tr><td style=\"text-align: left\">Mixed use dummy</td><td>Yes</td><td>Yes</td><td>Yes</td><td>Yes</td><td>Yes</td><td>Yes</td></tr><tr><td style=\"text-align: left\">Landownership dummy</td><td>Yes</td><td>Yes</td><td>Yes</td><td>Yes</td><td>Yes</td><td>Yes</td></tr><tr><td style=\"text-align: left\">Transaction year dummy</td><td>Yes</td><td>Yes</td><td>Yes</td><td>Yes</td><td>Yes</td><td>Yes</td></tr><tr><td style=\"text-align: left\">ML Bucket</td><td>Yes</td><td>Yes</td><td>Yes</td><td>Yes</td><td>Yes</td><td>Yes</td></tr><tr><td style=\"text-align: left\">Building age dummy</td><td>Yes</td><td>Yes</td><td>Yes</td><td>Yes</td><td>Yes</td><td>Yes</td></tr><tr><td style=\"text-align: left\">Log Summed area</td><td>Yes</td><td>Yes</td><td>Yes</td><td>Yes</td><td>Yes</td><td>Yes</td></tr><td colspan=\"7\" style=\"border-bottom: 1px solid black\"></td></tr><tr><td style=\"text-align: left\">Observations</td><td>1,342</td><td>1,342</td><td>1,342</td><td>1,342</td><td>1,836</td><td>1,836</td></tr><tr><td style=\"text-align: left\">R<sup>2</sup></td><td></td><td>0.716</td><td></td><td>0.718</td><td></td><td>0.682</td></tr><tr><td style=\"text-align: left\">Adjusted R<sup>2</sup></td><td></td><td>0.588</td><td></td><td>0.590</td><td></td><td>0.580</td></tr><tr><td style=\"text-align: left\">Residual Std. Error</td><td>0.599 (df=925)</td><td>0.708 (df=925)</td><td>0.604 (df=920)</td><td>0.707 (df=920)</td><td>0.595 (df=1392)</td><td>0.672 (df=1392)</td></tr><tr><td style=\"text-align: left\">F Statistic</td><td><sup></sup> (df=416; 925)</td><td>6268.274<sup>***</sup> (df=416; 925)</td><td><sup></sup> (df=421; 920)</td><td>4160.480<sup>***</sup> (df=421; 920)</td><td><sup></sup> (df=443; 1392)</td><td>348.159<sup>***</sup> (df=443; 1392)</td></tr><tr><td colspan=\"7\" style=\"border-bottom: 1px solid black\"></td></tr><tr><td style=\"text-align: left\">Note:</td>\n",
       " <td colspan=\"6\" style=\"text-align: right\">\n",
       "  <sup>*</sup>p&lt;0.1;\n",
       "  <sup>**</sup>p&lt;0.05;\n",
       "  <sup>***</sup>p&lt;0.01\n",
       " </td></tr></table>"
      ],
      "text/plain": [
       "<stargazer.stargazer.Stargazer at 0x14c0da20b20>"
      ]
     },
     "execution_count": 3,
     "metadata": {},
     "output_type": "execute_result"
    }
   ],
   "source": [
    "data = dataSequence(yearBuildBuckets=10,coordinatBucketSize=5,is_age_bucket=True, imputationArea=False, kmeansCluster=400)\n",
    "filtered = data.copy().query(\"categorizedEnergyLabel_simple != 'na'\")\n",
    "\n",
    "modelspec_baseline_efficient = ('price_per_meter2_log ~ C(is_efficient)+ C(property_property_type) + C(transaction_year, Treatment(reference=2017)) + C(building_age_at_transaction_bucket, Treatment(reference=0)) + C(renovated) + C(mixedUseDummy) + C(property_land_ownership) + calculations_sum_area_log + C(transactions_simplified)+ C(kmeans_cluster)')\n",
    "modelspec_baseline_energyLabel =(\"price_per_meter2_log ~ C(categorizedEnergyLabel_simple_suplemended, Treatment(reference='d'))+ C(property_property_type) + C(transaction_year, Treatment(reference=2017)) + C(building_age_at_transaction_bucket, Treatment(reference=0)) + C(renovated) + C(mixedUseDummy) + C(property_land_ownership) + calculations_sum_area_log + C(transactions_simplified)+ C(kmeans_cluster)\")\n",
    "\n",
    "# RML\n",
    "isEfficient_reg_all_rlm = smf.rlm(modelspec_baseline_efficient, M = sm.robust.norms.TukeyBiweight(), data=filtered)\n",
    "energyLabel_reg_all_rlm = smf.rlm(modelspec_baseline_energyLabel,M = sm.robust.norms.TukeyBiweight(), data=data)\n",
    "energyLabel_reg_withouNA_rlm = smf.rlm(modelspec_baseline_energyLabel,M = sm.robust.norms.TukeyBiweight(), data=filtered)\n",
    "\n",
    "# Normal OLS\n",
    "isEfficient_reg_all_ols = ols(modelspec_baseline_efficient, data=filtered)\n",
    "energyLabel_reg_all_ols = ols(modelspec_baseline_energyLabel, data=data)\n",
    "energyLabel_reg_withouNA_ols = ols(modelspec_baseline_energyLabel, data=filtered)\n",
    "\n",
    "# Baseline Results Comparison\n",
    "from stargazer.stargazer import Stargazer\n",
    "baselineComparisson = Stargazer([\n",
    "    isEfficient_reg_all_rlm.fit(),\n",
    "    isEfficient_reg_all_ols.fit(cov_type='HC1'),\n",
    "    energyLabel_reg_withouNA_rlm.fit(),\n",
    "    energyLabel_reg_withouNA_ols.fit(cov_type='HC1'),\n",
    "    energyLabel_reg_all_rlm.fit(),\n",
    "    energyLabel_reg_all_ols.fit(cov_type='HC1'),\n",
    "])\n",
    "\n",
    "baselineComparisson.covariate_order([\n",
    "    'Intercept',\n",
    "    'C(is_efficient)[T.True]',\n",
    "    \"C(categorizedEnergyLabel_simple_suplemended, Treatment(reference='d'))[T.a]\",\n",
    "    \"C(categorizedEnergyLabel_simple_suplemended, Treatment(reference='d'))[T.b]\",\n",
    "    \"C(categorizedEnergyLabel_simple_suplemended, Treatment(reference='d'))[T.c]\",\n",
    "    \"C(categorizedEnergyLabel_simple_suplemended, Treatment(reference='d'))[T.e]\",\n",
    "    \"C(categorizedEnergyLabel_simple_suplemended, Treatment(reference='d'))[T.f]\",\n",
    "    \"C(categorizedEnergyLabel_simple_suplemended, Treatment(reference='d'))[T.g]\",\n",
    "    \"C(categorizedEnergyLabel_simple_suplemended, Treatment(reference='d'))[T.na]\",\n",
    "])\n",
    "baselineComparisson.rename_covariates(nameDict)\n",
    "\n",
    "baselineComparisson.add_line(r\"\\textit{Control variables}\", ['','','','','',''])\n",
    "baselineComparisson.add_line('Property type dummy', ['Yes','Yes','Yes','Yes','Yes','Yes'])\n",
    "baselineComparisson.add_line('Renovation dummy', ['Yes','Yes','Yes','Yes','Yes','Yes'])\n",
    "baselineComparisson.add_line('Mixed use dummy', ['Yes','Yes','Yes','Yes','Yes','Yes'])\n",
    "baselineComparisson.add_line('Landownership dummy', ['Yes','Yes','Yes','Yes','Yes','Yes'])\n",
    "baselineComparisson.add_line('Transaction year dummy', ['Yes','Yes','Yes','Yes','Yes','Yes'])\n",
    "baselineComparisson.add_line('ML Bucket', ['Yes','Yes','Yes','Yes','Yes','Yes'])\n",
    "baselineComparisson.add_line('Building age dummy', ['Yes','Yes','Yes','Yes','Yes','Yes'])\n",
    "baselineComparisson.add_line('Log Summed area', ['Yes','Yes','Yes','Yes','Yes','Yes'])\n",
    "print(baselineComparisson.render_latex())\n",
    "baselineComparisson"
   ]
  }
 ],
 "metadata": {
  "kernelspec": {
   "display_name": "base",
   "language": "python",
   "name": "python3"
  },
  "language_info": {
   "codemirror_mode": {
    "name": "ipython",
    "version": 3
   },
   "file_extension": ".py",
   "mimetype": "text/x-python",
   "name": "python",
   "nbconvert_exporter": "python",
   "pygments_lexer": "ipython3",
   "version": "3.9.13"
  },
  "orig_nbformat": 4,
  "vscode": {
   "interpreter": {
    "hash": "ad2bdc8ecc057115af97d19610ffacc2b4e99fae6737bb82f5d7fb13d2f2c186"
   }
  }
 },
 "nbformat": 4,
 "nbformat_minor": 2
}
