{
 "cells": [
  {
   "cell_type": "code",
   "execution_count": 1,
   "metadata": {},
   "outputs": [],
   "source": [
    "from statsmodels.formula.api import ols\n",
    "import statsmodels.formula.api as smf\n",
    "import statsmodels.api as sm\n",
    "from automatedFunction import dataSequence\n",
    "import pandas as pd\n",
    "from stargazer.stargazer import Stargazer"
   ]
  },
  {
   "cell_type": "code",
   "execution_count": 2,
   "metadata": {},
   "outputs": [],
   "source": [
    "nameDict = dict({\n",
    "    \"C(is_efficient)[T.True]\"                                                           :   'Is efficient',\n",
    "    \"C(categorizedEnergyLabel_simple_suplemended, Treatment(reference='d'))[T.a]\"       :   'A',\n",
    "    \"C(categorizedEnergyLabel_simple_suplemended, Treatment(reference='d'))[T.b]\"       :   'B',\n",
    "    \"C(categorizedEnergyLabel_simple_suplemended, Treatment(reference='d'))[T.c]\"       :   'C',\n",
    "    \"C(categorizedEnergyLabel_simple_suplemended, Treatment(reference='d'))[T.e]\"       :   'E',\n",
    "    \"C(categorizedEnergyLabel_simple_suplemended, Treatment(reference='d'))[T.f]\"       :   'F',\n",
    "    \"C(categorizedEnergyLabel_simple_suplemended, Treatment(reference='d'))[T.g]\"       :   'G',\n",
    "    \"C(categorizedEnergyLabel_simple_suplemended, Treatment(reference='d'))[T.na]\"      :   'NA',\n",
    "    \"C(categorizedEnergyLabel_simple_suplemended, Treatment(reference='d'))[T.na-c]\"    :   'NA-C',\n",
    "    })"
   ]
  },
  {
   "cell_type": "code",
   "execution_count": 7,
   "metadata": {},
   "outputs": [],
   "source": [
    "data = dataSequence(yearBuildBuckets=10,coordinatBucketSize=5,is_age_bucket=True, imputationArea=False, kmeansCluster=400)\n",
    "data_noShop =data.copy().query(\"property_property_type != 'shop'\")\n",
    "data_noNA =data.copy().query(\"categorizedEnergyLabel_simple != 'na'\")\n",
    "data_noNA_noShops =data.copy().query(\"categorizedEnergyLabel_simple != 'na' & property_property_type != 'shop'\")\n",
    "# data_noNA =data.copy().query(\"categorizedEnergyLabel_simple != 'na'\")\n",
    "\n",
    "modelspec_baseline_efficient_ml     = ('price_per_meter2_log ~ C(is_efficient) + C(property_property_type) + C(transaction_year, Treatment(reference=2017)) + C(building_age_at_transaction_bucket, Treatment(reference=0)) + C(renovated) + C(mixedUseDummy) + C(property_land_ownership) + calculations_sum_area_log + C(transactions_simplified) + C(kmeans_cluster)')\n",
    "\n",
    "modelspec_baseline_energyLabel_ml   = (\"price_per_meter2_log ~ C(categorizedEnergyLabel_simple_suplemended, Treatment(reference='d'))+ C(property_property_type) + C(transaction_year, Treatment(reference=2017)) + C(building_age_at_transaction_bucket, Treatment(reference=0)) + C(renovated) + C(mixedUseDummy) + C(property_land_ownership) + calculations_sum_area_log + C(transactions_simplified)+ C(kmeans_cluster)\")\n",
    "\n",
    "\n",
    "\n",
    "# RML\n",
    "isEfficient_rml_ml = smf.rlm(modelspec_baseline_efficient_ml  , M = sm.robust.norms.TukeyBiweight(), data=data_noNA)\n",
    "isEfficient_rml_ml_noShop = smf.rlm(modelspec_baseline_efficient_ml  , M = sm.robust.norms.TukeyBiweight(), data=data_noNA_noShops)\n",
    "\n",
    "energyLabel_rml_ml = smf.rlm(modelspec_baseline_energyLabel_ml,M = sm.robust.norms.TukeyBiweight(), data=data)\n",
    "energyLabel_rml_ml_noShop = smf.rlm(modelspec_baseline_energyLabel_ml,M = sm.robust.norms.TukeyBiweight(), data=data_noShop)\n",
    "\n",
    "\n",
    "# OLS\n",
    "# isEfficient_ols_ml = ols(modelspec_baseline_efficient_ml  ,  data=data_noNA)\n",
    "\n",
    "# energyLabel_ols_ml = ols(modelspec_baseline_energyLabel_ml, data=data)\n"
   ]
  },
  {
   "cell_type": "code",
   "execution_count": 8,
   "metadata": {},
   "outputs": [
    {
     "data": {
      "text/html": [
       "<table style=\"text-align:center\"><tr><td colspan=\"5\" style=\"border-bottom: 1px solid black\"></td></tr><tr><td style=\"text-align:left\"></td><td colspan=\"4\"><em>Dependent variable:price_per_meter2_log</em></td></tr><tr><td style=\"text-align:left\"></td><tr><td style=\"text-align:left\"></td><td>(1)</td><td>(2)</td><td>(3)</td><td>(4)</td></tr><tr><td colspan=\"5\" style=\"border-bottom: 1px solid black\"></td></tr><tr><td style=\"text-align:left\">Intercept</td><td>11.503<sup>***</sup></td><td>10.029<sup>***</sup></td><td>11.490<sup>***</sup></td><td>10.449<sup>***</sup></td></tr><tr><td style=\"text-align:left\"></td><td>(0.493)</td><td>(0.323)</td><td>(0.418)</td><td>(0.356)</td></tr><tr><td style=\"text-align:left\">Is efficient</td><td>0.218<sup>***</sup></td><td>0.125<sup>***</sup></td><td></td><td></td></tr><tr><td style=\"text-align:left\"></td><td>(0.053)</td><td>(0.035)</td><td></td><td></td></tr><tr><td style=\"text-align:left\">A</td><td></td><td></td><td>0.222<sup>***</sup></td><td>0.158<sup>***</sup></td></tr><tr><td style=\"text-align:left\"></td><td></td><td></td><td>(0.067)</td><td>(0.059)</td></tr><tr><td style=\"text-align:left\">B</td><td></td><td></td><td>0.189<sup>***</sup></td><td>0.179<sup>***</sup></td></tr><tr><td style=\"text-align:left\"></td><td></td><td></td><td>(0.073)</td><td>(0.060)</td></tr><tr><td style=\"text-align:left\">C</td><td></td><td></td><td>0.184<sup>***</sup></td><td>0.105<sup>*</sup></td></tr><tr><td style=\"text-align:left\"></td><td></td><td></td><td>(0.071)</td><td>(0.057)</td></tr><tr><td style=\"text-align:left\">E</td><td></td><td></td><td>0.198<sup>**</sup></td><td>0.025<sup></sup></td></tr><tr><td style=\"text-align:left\"></td><td></td><td></td><td>(0.087)</td><td>(0.069)</td></tr><tr><td style=\"text-align:left\">F</td><td></td><td></td><td>-0.102<sup></sup></td><td>-0.129<sup></sup></td></tr><tr><td style=\"text-align:left\"></td><td></td><td></td><td>(0.106)</td><td>(0.086)</td></tr><tr><td style=\"text-align:left\">G</td><td></td><td></td><td>-0.240<sup>**</sup></td><td>-0.482<sup>***</sup></td></tr><tr><td style=\"text-align:left\"></td><td></td><td></td><td>(0.097)</td><td>(0.081)</td></tr><tr><td style=\"text-align:left\">NA</td><td></td><td></td><td>-0.083<sup></sup></td><td>-0.020<sup></sup></td></tr><tr><td style=\"text-align:left\"></td><td></td><td></td><td>(0.073)</td><td>(0.060)</td></tr><td colspan=\"5\" style=\"border-bottom: 1px solid black\"></td></tr><tr><td style=\"text-align: left\">Observations</td><td>1,342</td><td>897</td><td>1,836</td><td>1,300</td></tr><tr><td style=\"text-align: left\">R<sup>2</sup></td><td></td><td></td><td></td><td></td></tr><tr><td style=\"text-align: left\">Adjusted R<sup>2</sup></td><td></td><td></td><td></td><td></td></tr><tr><td style=\"text-align: left\">Residual Std. Error</td><td>0.599 (df=925)</td><td>0.382 (df=517)</td><td>0.595 (df=1392)</td><td>0.457 (df=886)</td></tr><tr><td style=\"text-align: left\">F Statistic</td><td><sup></sup> (df=416; 925)</td><td><sup></sup> (df=379; 517)</td><td><sup></sup> (df=443; 1392)</td><td><sup></sup> (df=413; 886)</td></tr><tr><td colspan=\"5\" style=\"border-bottom: 1px solid black\"></td></tr><tr><td style=\"text-align: left\">Note:</td>\n",
       " <td colspan=\"4\" style=\"text-align: right\">\n",
       "  <sup>*</sup>p&lt;0.1;\n",
       "  <sup>**</sup>p&lt;0.05;\n",
       "  <sup>***</sup>p&lt;0.01\n",
       " </td></tr></table>"
      ],
      "text/plain": [
       "<stargazer.stargazer.Stargazer at 0x17fc6dbad00>"
      ]
     },
     "execution_count": 8,
     "metadata": {},
     "output_type": "execute_result"
    }
   ],
   "source": [
    "# RML Location comparisson\n",
    "baselineComparisson = Stargazer([\n",
    "    isEfficient_rml_ml.fit(),\n",
    "    isEfficient_rml_ml_noShop.fit(),\n",
    "    energyLabel_rml_ml.fit(),\n",
    "    energyLabel_rml_ml_noShop.fit()\n",
    "])\n",
    "\n",
    "baselineComparisson.covariate_order([\n",
    "    'Intercept',\n",
    "    'C(is_efficient)[T.True]',\n",
    "    \"C(categorizedEnergyLabel_simple_suplemended, Treatment(reference='d'))[T.a]\",\n",
    "    \"C(categorizedEnergyLabel_simple_suplemended, Treatment(reference='d'))[T.b]\",\n",
    "    \"C(categorizedEnergyLabel_simple_suplemended, Treatment(reference='d'))[T.c]\",\n",
    "    \"C(categorizedEnergyLabel_simple_suplemended, Treatment(reference='d'))[T.e]\",\n",
    "    \"C(categorizedEnergyLabel_simple_suplemended, Treatment(reference='d'))[T.f]\",\n",
    "    \"C(categorizedEnergyLabel_simple_suplemended, Treatment(reference='d'))[T.g]\",\n",
    "    \"C(categorizedEnergyLabel_simple_suplemended, Treatment(reference='d'))[T.na]\",\n",
    "])\n",
    "baselineComparisson.rename_covariates(nameDict)\n",
    "# baselineComparisson.add_line(r\"\\textit{Control variables}\", ['','','','','',''])\n",
    "# baselineComparisson.add_line('Property type dummy', ['Yes','Yes','Yes','Yes','Yes','Yes'])\n",
    "# baselineComparisson.add_line('Renovation dummy', ['Yes','Yes','Yes','Yes','Yes','Yes'])\n",
    "# baselineComparisson.add_line('Mixed use dummy', ['Yes','Yes','Yes','Yes','Yes','Yes'])\n",
    "# baselineComparisson.add_line('Landownership dummy', ['Yes','Yes','Yes','Yes','Yes','Yes'])\n",
    "# baselineComparisson.add_line('Transaction year dummy', ['Yes','Yes','Yes','Yes','Yes','Yes'])\n",
    "# baselineComparisson.add_line('5 x 5 km dummy', ['Yes','Yes','Yes','Yes','Yes','Yes'])\n",
    "# baselineComparisson.add_line('Building age dummy', ['Yes','Yes','Yes','Yes','Yes','Yes'])\n",
    "# baselineComparisson.add_line('Summed area', ['Yes','Yes','Yes','Yes','Yes','Yes'])\n",
    "# print(baselineComparisson.render_latex())\n",
    "baselineComparisson"
   ]
  }
 ],
 "metadata": {
  "kernelspec": {
   "display_name": "base",
   "language": "python",
   "name": "python3"
  },
  "language_info": {
   "codemirror_mode": {
    "name": "ipython",
    "version": 3
   },
   "file_extension": ".py",
   "mimetype": "text/x-python",
   "name": "python",
   "nbconvert_exporter": "python",
   "pygments_lexer": "ipython3",
   "version": "3.9.13"
  },
  "orig_nbformat": 4,
  "vscode": {
   "interpreter": {
    "hash": "ad2bdc8ecc057115af97d19610ffacc2b4e99fae6737bb82f5d7fb13d2f2c186"
   }
  }
 },
 "nbformat": 4,
 "nbformat_minor": 2
}
