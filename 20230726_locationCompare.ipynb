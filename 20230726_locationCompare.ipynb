{
 "cells": [
  {
   "cell_type": "code",
   "execution_count": 10,
   "metadata": {},
   "outputs": [],
   "source": [
    "from statsmodels.formula.api import ols\n",
    "import statsmodels.formula.api as smf\n",
    "import statsmodels.api as sm\n",
    "from automatedFunction import dataSequence\n",
    "import pandas as pd\n",
    "from stargazer.stargazer import Stargazer"
   ]
  },
  {
   "cell_type": "code",
   "execution_count": 11,
   "metadata": {},
   "outputs": [],
   "source": [
    "nameDict = dict({\n",
    "    \"C(is_efficient)[T.True]\"                                                           :   'Is efficient',\n",
    "    \"C(categorizedEnergyLabel_simple_suplemended, Treatment(reference='d'))[T.a]\"       :   'A',\n",
    "    \"C(categorizedEnergyLabel_simple_suplemended, Treatment(reference='d'))[T.b]\"       :   'B',\n",
    "    \"C(categorizedEnergyLabel_simple_suplemended, Treatment(reference='d'))[T.c]\"       :   'C',\n",
    "    \"C(categorizedEnergyLabel_simple_suplemended, Treatment(reference='d'))[T.e]\"       :   'E',\n",
    "    \"C(categorizedEnergyLabel_simple_suplemended, Treatment(reference='d'))[T.f]\"       :   'F',\n",
    "    \"C(categorizedEnergyLabel_simple_suplemended, Treatment(reference='d'))[T.g]\"       :   'G',\n",
    "    \"C(categorizedEnergyLabel_simple_suplemended, Treatment(reference='d'))[T.na]\"      :   'NA',\n",
    "    \"C(categorizedEnergyLabel_simple_suplemended, Treatment(reference='d'))[T.na-c]\"    :   'NA-C',\n",
    "    })"
   ]
  },
  {
   "cell_type": "code",
   "execution_count": 2,
   "metadata": {},
   "outputs": [
    {
     "ename": "NameError",
     "evalue": "name 'dataSequence' is not defined",
     "output_type": "error",
     "traceback": [
      "\u001b[1;31m---------------------------------------------------------------------------\u001b[0m",
      "\u001b[1;31mNameError\u001b[0m                                 Traceback (most recent call last)",
      "\u001b[1;32mC:\\Users\\local_NC5744\\Temp\\ipykernel_10848\\3718181081.py\u001b[0m in \u001b[0;36m<module>\u001b[1;34m\u001b[0m\n\u001b[1;32m----> 1\u001b[1;33m \u001b[0mdata\u001b[0m \u001b[1;33m=\u001b[0m \u001b[0mdataSequence\u001b[0m\u001b[1;33m(\u001b[0m\u001b[0myearBuildBuckets\u001b[0m\u001b[1;33m=\u001b[0m\u001b[1;36m10\u001b[0m\u001b[1;33m,\u001b[0m\u001b[0mcoordinatBucketSize\u001b[0m\u001b[1;33m=\u001b[0m\u001b[1;36m5\u001b[0m\u001b[1;33m,\u001b[0m\u001b[0mis_age_bucket\u001b[0m\u001b[1;33m=\u001b[0m\u001b[1;32mTrue\u001b[0m\u001b[1;33m,\u001b[0m \u001b[0mimputationArea\u001b[0m\u001b[1;33m=\u001b[0m\u001b[1;32mFalse\u001b[0m\u001b[1;33m,\u001b[0m \u001b[0mkmeansCluster\u001b[0m\u001b[1;33m=\u001b[0m\u001b[1;36m400\u001b[0m\u001b[1;33m)\u001b[0m\u001b[1;33m\u001b[0m\u001b[1;33m\u001b[0m\u001b[0m\n\u001b[0m\u001b[0;32m      2\u001b[0m \u001b[0mdata_noNA\u001b[0m \u001b[1;33m=\u001b[0m\u001b[0mdata\u001b[0m\u001b[1;33m.\u001b[0m\u001b[0mcopy\u001b[0m\u001b[1;33m(\u001b[0m\u001b[1;33m)\u001b[0m\u001b[1;33m.\u001b[0m\u001b[0mquery\u001b[0m\u001b[1;33m(\u001b[0m\u001b[1;34m\"categorizedEnergyLabel_simple != 'na'\"\u001b[0m\u001b[1;33m)\u001b[0m\u001b[1;33m\u001b[0m\u001b[1;33m\u001b[0m\u001b[0m\n\u001b[0;32m      3\u001b[0m \u001b[1;33m\u001b[0m\u001b[0m\n\u001b[0;32m      4\u001b[0m \u001b[0mmodelspec_baseline_efficient_ml\u001b[0m     \u001b[1;33m=\u001b[0m \u001b[1;33m(\u001b[0m\u001b[1;34m'price_per_meter2_log ~ C(is_efficient) + C(property_property_type) + C(transaction_year, Treatment(reference=2017)) + C(building_age_at_transaction_bucket, Treatment(reference=0)) + C(renovated) + C(mixedUseDummy) + C(property_land_ownership) + calculations_sum_area_log + C(transactions_simplified) + C(kmeans_cluster)'\u001b[0m\u001b[1;33m)\u001b[0m\u001b[1;33m\u001b[0m\u001b[1;33m\u001b[0m\u001b[0m\n\u001b[0;32m      5\u001b[0m \u001b[0mmodelspec_baseline_efficient_grid\u001b[0m   \u001b[1;33m=\u001b[0m \u001b[1;33m(\u001b[0m\u001b[1;34m'price_per_meter2_log ~ C(is_efficient) + C(property_property_type) + C(transaction_year, Treatment(reference=2017)) + C(building_age_at_transaction_bucket, Treatment(reference=0)) + C(renovated) + C(mixedUseDummy) + C(property_land_ownership) + calculations_sum_area_log + C(transactions_simplified) + C(coordinatBucket)'\u001b[0m\u001b[1;33m)\u001b[0m\u001b[1;33m\u001b[0m\u001b[1;33m\u001b[0m\u001b[0m\n",
      "\u001b[1;31mNameError\u001b[0m: name 'dataSequence' is not defined"
     ]
    }
   ],
   "source": [
    "data = dataSequence(yearBuildBuckets=10,coordinatBucketSize=5,is_age_bucket=True, imputationArea=False, kmeansCluster=400)\n",
    "data_noNA =data.copy().query(\"categorizedEnergyLabel_simple != 'na'\")\n",
    "\n",
    "modelspec_baseline_efficient_ml     = ('price_per_meter2_log ~ C(is_efficient) + C(property_property_type) + C(transaction_year, Treatment(reference=2017)) + C(building_age_at_transaction_bucket, Treatment(reference=0)) + C(renovated) + C(mixedUseDummy) + C(property_land_ownership) + calculations_sum_area_log + C(transactions_simplified) + C(kmeans_cluster)')\n",
    "modelspec_baseline_efficient_grid   = ('price_per_meter2_log ~ C(is_efficient) + C(property_property_type) + C(transaction_year, Treatment(reference=2017)) + C(building_age_at_transaction_bucket, Treatment(reference=0)) + C(renovated) + C(mixedUseDummy) + C(property_land_ownership) + calculations_sum_area_log + C(transactions_simplified) + C(coordinatBucket)')\n",
    "modelspec_baseline_efficient_city   = ('price_per_meter2_log ~ C(is_efficient) + C(property_property_type) + C(transaction_year, Treatment(reference=2017)) + C(building_age_at_transaction_bucket, Treatment(reference=0)) + C(renovated) + C(mixedUseDummy) + C(property_land_ownership) + calculations_sum_area_log + C(transactions_simplified) + C(address_city)')\n",
    "modelspec_baseline_efficient_pc4    = ('price_per_meter2_log ~ C(is_efficient) + C(property_property_type) + C(transaction_year, Treatment(reference=2017)) + C(building_age_at_transaction_bucket, Treatment(reference=0)) + C(renovated) + C(mixedUseDummy) + C(property_land_ownership) + calculations_sum_area_log + C(transactions_simplified) + C(pc4)')\n",
    "modelspec_baseline_efficient_non    = ('price_per_meter2_log ~ C(is_efficient) + C(property_property_type) + C(transaction_year, Treatment(reference=2017)) + C(building_age_at_transaction_bucket, Treatment(reference=0)) + C(renovated) + C(mixedUseDummy) + C(property_land_ownership) + calculations_sum_area_log + C(transactions_simplified)')\n",
    "\n",
    "modelspec_baseline_energyLabel_ml   = (\"price_per_meter2_log ~ C(categorizedEnergyLabel_simple_suplemended, Treatment(reference='d'))+ C(property_property_type) + C(transaction_year, Treatment(reference=2017)) + C(building_age_at_transaction_bucket, Treatment(reference=0)) + C(renovated) + C(mixedUseDummy) + C(property_land_ownership) + calculations_sum_area_log + C(transactions_simplified)+ C(kmeans_cluster)\")\n",
    "modelspec_baseline_energyLabel_grid = (\"price_per_meter2_log ~ C(categorizedEnergyLabel_simple_suplemended, Treatment(reference='d'))+ C(property_property_type) + C(transaction_year, Treatment(reference=2017)) + C(building_age_at_transaction_bucket, Treatment(reference=0)) + C(renovated) + C(mixedUseDummy) + C(property_land_ownership) + calculations_sum_area_log + C(transactions_simplified)+ C(coordinatBucket)\")\n",
    "modelspec_baseline_energyLabel_city = (\"price_per_meter2_log ~ C(categorizedEnergyLabel_simple_suplemended, Treatment(reference='d'))+ C(property_property_type) + C(transaction_year, Treatment(reference=2017)) + C(building_age_at_transaction_bucket, Treatment(reference=0)) + C(renovated) + C(mixedUseDummy) + C(property_land_ownership) + calculations_sum_area_log + C(transactions_simplified)+ C(address_city)\")\n",
    "modelspec_baseline_energyLabel_pc4  = (\"price_per_meter2_log ~ C(categorizedEnergyLabel_simple_suplemended, Treatment(reference='d'))+ C(property_property_type) + C(transaction_year, Treatment(reference=2017)) + C(building_age_at_transaction_bucket, Treatment(reference=0)) + C(renovated) + C(mixedUseDummy) + C(property_land_ownership) + calculations_sum_area_log + C(transactions_simplified)+ C(pc4)\")\n",
    "modelspec_baseline_energyLabel_non = (\"price_per_meter2_log ~ C(categorizedEnergyLabel_simple_suplemended, Treatment(reference='d'))+ C(property_property_type) + C(transaction_year, Treatment(reference=2017)) + C(building_age_at_transaction_bucket, Treatment(reference=0)) + C(renovated) + C(mixedUseDummy) + C(property_land_ownership) + calculations_sum_area_log + C(transactions_simplified)\")\n",
    "\n",
    "\n",
    "# RML\n",
    "isEfficient_rml_ml = smf.rlm(modelspec_baseline_efficient_ml  , M = sm.robust.norms.TukeyBiweight(), data=data_noNA)\n",
    "isEfficient_rml_grid = smf.rlm(modelspec_baseline_efficient_grid, M = sm.robust.norms.TukeyBiweight(), data=data_noNA)\n",
    "isEfficient_rml_city = smf.rlm(modelspec_baseline_efficient_city, M = sm.robust.norms.TukeyBiweight(), data=data_noNA)\n",
    "isEfficient_rml_pc4 = smf.rlm(modelspec_baseline_efficient_pc4 , M = sm.robust.norms.TukeyBiweight(), data=data_noNA)\n",
    "isEfficient_rml_non = smf.rlm(modelspec_baseline_efficient_non , M = sm.robust.norms.TukeyBiweight(), data=data_noNA)\n",
    "\n",
    "energyLabel_rml_ml = smf.rlm(modelspec_baseline_energyLabel_ml,M = sm.robust.norms.TukeyBiweight(), data=data)\n",
    "energyLabel_rml_grid = smf.rlm(modelspec_baseline_energyLabel_grid,M = sm.robust.norms.TukeyBiweight(), data=data)\n",
    "energyLabel_rml_city = smf.rlm(modelspec_baseline_energyLabel_city,M = sm.robust.norms.TukeyBiweight(), data=data)\n",
    "energyLabel_rml_pc4 = smf.rlm(modelspec_baseline_energyLabel_pc4,M = sm.robust.norms.TukeyBiweight(), data=data)\n",
    "energyLabel_rml_non = smf.rlm(modelspec_baseline_energyLabel_non,M = sm.robust.norms.TukeyBiweight(), data=data)\n",
    "\n",
    "# OLS\n",
    "isEfficient_ols_ml = ols(modelspec_baseline_efficient_ml  ,  data=data_noNA)\n",
    "isEfficient_ols_grid = ols(modelspec_baseline_efficient_grid,  data=data_noNA)\n",
    "isEfficient_ols_city = ols(modelspec_baseline_efficient_city,  data=data_noNA)\n",
    "isEfficient_ols_pc4 = ols(modelspec_baseline_efficient_pc4 ,  data=data_noNA)\n",
    "isEfficient_ols_non = ols(modelspec_baseline_efficient_non ,  data=data_noNA)\n",
    "\n",
    "energyLabel_ols_ml = ols(modelspec_baseline_energyLabel_ml, data=data)\n",
    "energyLabel_ols_grid = ols(modelspec_baseline_energyLabel_grid, data=data)\n",
    "energyLabel_ols_city = ols(modelspec_baseline_energyLabel_city, data=data)\n",
    "energyLabel_ols_pc4 = ols(modelspec_baseline_energyLabel_pc4, data=data)\n",
    "energyLabel_ols_non = ols(modelspec_baseline_energyLabel_non, data=data)"
   ]
  },
  {
   "cell_type": "code",
   "execution_count": 18,
   "metadata": {},
   "outputs": [
    {
     "name": "stderr",
     "output_type": "stream",
     "text": [
      "c:\\ProgramData\\Anaconda3\\lib\\site-packages\\statsmodels\\base\\model.py:1871: ValueWarning: covariance of constraints does not have full rank. The number of constraints is 443, but rank is 384\n",
      "  warnings.warn('covariance of constraints does not have full '\n",
      "c:\\ProgramData\\Anaconda3\\lib\\site-packages\\statsmodels\\base\\model.py:1871: ValueWarning: covariance of constraints does not have full rank. The number of constraints is 434, but rank is 284\n",
      "  warnings.warn('covariance of constraints does not have full '\n",
      "c:\\ProgramData\\Anaconda3\\lib\\site-packages\\statsmodels\\base\\model.py:1871: ValueWarning: covariance of constraints does not have full rank. The number of constraints is 356, but rank is 228\n",
      "  warnings.warn('covariance of constraints does not have full '\n"
     ]
    },
    {
     "name": "stdout",
     "output_type": "stream",
     "text": [
      "\\begin{table}[!htbp] \\centering\n",
      "\\begin{tabular}{@{\\extracolsep{5pt}}lccccc}\n",
      "\\\\[-1.8ex]\\hline\n",
      "\\hline \\\\[-1.8ex]\n",
      "& \\multicolumn{5}{c}{\\textit{Dependent variable:}} \\\n",
      "\\cr \\cline{5-6}\n",
      "\\\\[-1.8ex] & (1) & (2) & (3) & (4) & (5) \\\\\n",
      "\\hline \\\\[-1.8ex]\n",
      " Intercept & 12.282$^{***}$ & 12.377$^{***}$ & 12.931$^{***}$ & 14.097$^{***}$ & 12.662$^{***}$ \\\\\n",
      "  & (0.407) & (0.301) & (0.291) & (0.522) & (0.281) \\\\\n",
      " A & 0.139$^{}$ & 0.115$^{}$ & 0.051$^{}$ & 0.014$^{}$ & 0.288$^{***}$ \\\\\n",
      "  & (0.108) & (0.112) & (0.109) & (0.154) & (0.107) \\\\\n",
      " B & 0.076$^{}$ & 0.095$^{}$ & 0.068$^{}$ & -0.009$^{}$ & 0.280$^{**}$ \\\\\n",
      "  & (0.112) & (0.115) & (0.115) & (0.155) & (0.113) \\\\\n",
      " C & 0.214$^{*}$ & 0.259$^{**}$ & 0.199$^{*}$ & 0.078$^{}$ & 0.336$^{***}$ \\\\\n",
      "  & (0.113) & (0.119) & (0.116) & (0.155) & (0.113) \\\\\n",
      " E & 0.200$^{}$ & 0.200$^{}$ & 0.199$^{}$ & 0.070$^{}$ & 0.392$^{***}$ \\\\\n",
      "  & (0.151) & (0.150) & (0.151) & (0.198) & (0.142) \\\\\n",
      " F & -0.035$^{}$ & -0.081$^{}$ & -0.136$^{}$ & -0.168$^{}$ & 0.014$^{}$ \\\\\n",
      "  & (0.140) & (0.164) & (0.150) & (0.208) & (0.146) \\\\\n",
      " G & -0.079$^{}$ & -0.147$^{}$ & -0.170$^{}$ & -0.378$^{*}$ & 0.095$^{}$ \\\\\n",
      "  & (0.149) & (0.152) & (0.154) & (0.199) & (0.171) \\\\\n",
      " NA & -0.210$^{*}$ & -0.245$^{**}$ & -0.302$^{**}$ & -0.480$^{***}$ & -0.087$^{}$ \\\\\n",
      "  & (0.120) & (0.121) & (0.118) & (0.172) & (0.111) \\\\\n",
      "\\hline \\\\[-1.8ex]\n",
      " Observations & 1,836 & 1,836 & 1,835 & 1,836 & 1,836 \\\\\n",
      " $R^2$ & 0.682 & 0.683 & 0.637 & 0.786 & 0.470 \\\\\n",
      " Adjusted $R^2$ & 0.580 & 0.585 & 0.550 & 0.594 & 0.457 \\\\\n",
      " Residual Std. Error & 0.672(df = 1392) & 0.668(df = 1401) & 0.696(df = 1478) & 0.661(df = 966) & 0.764(df = 1791)  \\\\\n",
      " F Statistic & 348.159$^{***}$ (df = 443.0; 1392.0) & 16.864$^{***}$ (df = 434.0; 1401.0) & 355.959$^{***}$ (df = 356.0; 1478.0) & 183.496$^{***}$ (df = 869.0; 966.0) & 182.567$^{***}$ (df = 44.0; 1791.0) \\\\\n",
      "\\hline\n",
      "\\hline \\\\[-1.8ex]\n",
      "\\textit{Note:} & \\multicolumn{5}{r}{$^{*}$p$<$0.1; $^{**}$p$<$0.05; $^{***}$p$<$0.01} \\\\\n",
      "\\end{tabular}\n",
      "\\end{table}\n"
     ]
    },
    {
     "name": "stderr",
     "output_type": "stream",
     "text": [
      "c:\\ProgramData\\Anaconda3\\lib\\site-packages\\statsmodels\\base\\model.py:1871: ValueWarning: covariance of constraints does not have full rank. The number of constraints is 870, but rank is 425\n",
      "  warnings.warn('covariance of constraints does not have full '\n"
     ]
    }
   ],
   "source": [
    "# RML Location comparisson\n",
    "baselineComparisson = Stargazer([\n",
    "    # isEfficient_rml_ml.fit(),\n",
    "    # isEfficient_rml_grid.fit(),\n",
    "    # isEfficient_rml_city.fit(),\n",
    "    # isEfficient_rml_pc4.fit(),\n",
    "    # isEfficient_rml_non.fit(),\n",
    "\n",
    "    # isEfficient_ols_ml.fit(cov_type='HC1'),\n",
    "    # isEfficient_ols_grid.fit(cov_type='HC1'),\n",
    "    # isEfficient_ols_city.fit(cov_type='HC1'),\n",
    "    # isEfficient_ols_pc4.fit(cov_type='HC1'),\n",
    "    # isEfficient_ols_non.fit(cov_type='HC1'),\n",
    "\n",
    "    # energyLabel_rml_ml.fit(),\n",
    "    # energyLabel_rml_grid.fit(),\n",
    "    # energyLabel_rml_city.fit(),\n",
    "    # energyLabel_rml_pc4.fit(),\n",
    "    # energyLabel_rml_non.fit(),\n",
    "\n",
    "    energyLabel_ols_ml.fit(cov_type='HC1'),\n",
    "    energyLabel_ols_grid.fit(cov_type='HC1'),\n",
    "    energyLabel_ols_city.fit(cov_type='HC1'),\n",
    "    energyLabel_ols_pc4.fit(cov_type='HC1'),\n",
    "    energyLabel_ols_non.fit(cov_type='HC1'),\n",
    "])\n",
    "\n",
    "baselineComparisson.covariate_order([\n",
    "    'Intercept',\n",
    "    # 'C(is_efficient)[T.True]',\n",
    "    \"C(categorizedEnergyLabel_simple_suplemended, Treatment(reference='d'))[T.a]\",\n",
    "    \"C(categorizedEnergyLabel_simple_suplemended, Treatment(reference='d'))[T.b]\",\n",
    "    \"C(categorizedEnergyLabel_simple_suplemended, Treatment(reference='d'))[T.c]\",\n",
    "    \"C(categorizedEnergyLabel_simple_suplemended, Treatment(reference='d'))[T.e]\",\n",
    "    \"C(categorizedEnergyLabel_simple_suplemended, Treatment(reference='d'))[T.f]\",\n",
    "    \"C(categorizedEnergyLabel_simple_suplemended, Treatment(reference='d'))[T.g]\",\n",
    "    \"C(categorizedEnergyLabel_simple_suplemended, Treatment(reference='d'))[T.na]\",\n",
    "])\n",
    "baselineComparisson.rename_covariates(nameDict)\n",
    "# baselineComparisson.add_line(r\"\\textit{Control variables}\", ['','','','','',''])\n",
    "# baselineComparisson.add_line('Property type dummy', ['Yes','Yes','Yes','Yes','Yes','Yes'])\n",
    "# baselineComparisson.add_line('Renovation dummy', ['Yes','Yes','Yes','Yes','Yes','Yes'])\n",
    "# baselineComparisson.add_line('Mixed use dummy', ['Yes','Yes','Yes','Yes','Yes','Yes'])\n",
    "# baselineComparisson.add_line('Landownership dummy', ['Yes','Yes','Yes','Yes','Yes','Yes'])\n",
    "# baselineComparisson.add_line('Transaction year dummy', ['Yes','Yes','Yes','Yes','Yes','Yes'])\n",
    "# baselineComparisson.add_line('5 x 5 km dummy', ['Yes','Yes','Yes','Yes','Yes','Yes'])\n",
    "# baselineComparisson.add_line('Building age dummy', ['Yes','Yes','Yes','Yes','Yes','Yes'])\n",
    "# baselineComparisson.add_line('Summed area', ['Yes','Yes','Yes','Yes','Yes','Yes'])\n",
    "print(baselineComparisson.render_latex())\n",
    "# baselineComparisson"
   ]
  }
 ],
 "metadata": {
  "kernelspec": {
   "display_name": "base",
   "language": "python",
   "name": "python3"
  },
  "language_info": {
   "codemirror_mode": {
    "name": "ipython",
    "version": 3
   },
   "file_extension": ".py",
   "mimetype": "text/x-python",
   "name": "python",
   "nbconvert_exporter": "python",
   "pygments_lexer": "ipython3",
   "version": "3.9.13 (main, Aug 25 2022, 23:51:50) [MSC v.1916 64 bit (AMD64)]"
  },
  "orig_nbformat": 4,
  "vscode": {
   "interpreter": {
    "hash": "ad2bdc8ecc057115af97d19610ffacc2b4e99fae6737bb82f5d7fb13d2f2c186"
   }
  }
 },
 "nbformat": 4,
 "nbformat_minor": 2
}
